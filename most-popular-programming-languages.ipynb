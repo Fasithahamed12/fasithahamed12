{
 "cells": [
  {
   "cell_type": "code",
   "execution_count": null,
   "id": "20c7357f",
   "metadata": {
    "_cell_guid": "b1076dfc-b9ad-4769-8c92-a6c4dae69d19",
    "_uuid": "8f2839f25d086af736a60e9eeb907d3b93b6e0e5",
    "execution": {
     "iopub.execute_input": "2022-06-21T03:28:27.663748Z",
     "iopub.status.busy": "2022-06-21T03:28:27.663313Z",
     "iopub.status.idle": "2022-06-21T03:28:27.673545Z",
     "shell.execute_reply": "2022-06-21T03:28:27.672876Z"
    },
    "papermill": {
     "duration": 0.018298,
     "end_time": "2022-06-21T03:28:27.675816",
     "exception": false,
     "start_time": "2022-06-21T03:28:27.657518",
     "status": "completed"
    },
    "tags": [],
    "pycharm": {
     "name": "#%%\n",
     "is_executing": true
    }
   },
   "outputs": [],
   "source": [
    "# This Python 3 environment comes with many helpful analytics libraries installed\n",
    "# It is defined by the kaggle/python Docker image: https://github.com/kaggle/docker-python\n",
    "# For example, here's several helpful packages to load\n",
    "\n",
    "import numpy as np # linear algebra\n",
    "import pandas as pd # data processing, CSV file I/O (e.g. pd.read_csv)"
   ]
  },
  {
   "cell_type": "code",
   "execution_count": null,
   "id": "e02143d6",
   "metadata": {
    "execution": {
     "iopub.execute_input": "2022-06-21T03:28:27.683976Z",
     "iopub.status.busy": "2022-06-21T03:28:27.683556Z",
     "iopub.status.idle": "2022-06-21T03:28:27.705103Z",
     "shell.execute_reply": "2022-06-21T03:28:27.704123Z"
    },
    "papermill": {
     "duration": 0.02826,
     "end_time": "2022-06-21T03:28:27.707582",
     "exception": false,
     "start_time": "2022-06-21T03:28:27.679322",
     "status": "completed"
    },
    "tags": [],
    "pycharm": {
     "name": "#%%\n",
     "is_executing": true
    }
   },
   "outputs": [],
   "source": [
    "list = pd.read_csv('../input/most-popular-programming-languages-since-2004/Most Popular Programming Languages from 2004 to 2022.csv')"
   ]
  },
  {
   "cell_type": "code",
   "execution_count": null,
   "id": "3c0bb820",
   "metadata": {
    "execution": {
     "iopub.execute_input": "2022-06-21T03:28:27.715513Z",
     "iopub.status.busy": "2022-06-21T03:28:27.715175Z",
     "iopub.status.idle": "2022-06-21T03:28:27.757294Z",
     "shell.execute_reply": "2022-06-21T03:28:27.756340Z"
    },
    "papermill": {
     "duration": 0.048568,
     "end_time": "2022-06-21T03:28:27.759529",
     "exception": false,
     "start_time": "2022-06-21T03:28:27.710961",
     "status": "completed"
    },
    "tags": [],
    "pycharm": {
     "name": "#%%\n",
     "is_executing": true
    }
   },
   "outputs": [],
   "source": [
    "list.head()"
   ]
  },
  {
   "cell_type": "code",
   "execution_count": null,
   "id": "7441b831",
   "metadata": {
    "execution": {
     "iopub.execute_input": "2022-06-21T03:28:27.767955Z",
     "iopub.status.busy": "2022-06-21T03:28:27.767563Z",
     "iopub.status.idle": "2022-06-21T03:28:27.802937Z",
     "shell.execute_reply": "2022-06-21T03:28:27.801866Z"
    },
    "papermill": {
     "duration": 0.041938,
     "end_time": "2022-06-21T03:28:27.804978",
     "exception": false,
     "start_time": "2022-06-21T03:28:27.763040",
     "status": "completed"
    },
    "tags": [],
    "pycharm": {
     "name": "#%%\n",
     "is_executing": true
    }
   },
   "outputs": [],
   "source": [
    "test = list.set_index(list.Date)\n",
    "test = test.iloc[:, 1:]\n",
    "test.head()"
   ]
  },
  {
   "cell_type": "code",
   "execution_count": 5,
   "id": "de8997fc",
   "metadata": {
    "execution": {
     "iopub.execute_input": "2022-06-21T03:28:27.816625Z",
     "iopub.status.busy": "2022-06-21T03:28:27.816199Z",
     "iopub.status.idle": "2022-06-21T03:28:27.944896Z",
     "shell.execute_reply": "2022-06-21T03:28:27.943667Z"
    },
    "papermill": {
     "duration": 0.136907,
     "end_time": "2022-06-21T03:28:27.948133",
     "exception": false,
     "start_time": "2022-06-21T03:28:27.811226",
     "status": "completed"
    },
    "tags": [],
    "pycharm": {
     "name": "#%%\n"
    }
   },
   "outputs": [
    {
     "data": {
      "text/html": [
       "<div>\n",
       "<style scoped>\n",
       "    .dataframe tbody tr th:only-of-type {\n",
       "        vertical-align: middle;\n",
       "    }\n",
       "\n",
       "    .dataframe tbody tr th {\n",
       "        vertical-align: top;\n",
       "    }\n",
       "\n",
       "    .dataframe thead th {\n",
       "        text-align: right;\n",
       "    }\n",
       "</style>\n",
       "<table border=\"1\" class=\"dataframe\">\n",
       "  <thead>\n",
       "    <tr style=\"text-align: right;\">\n",
       "      <th></th>\n",
       "      <th>Perl</th>\n",
       "      <th>Java</th>\n",
       "      <th>PHP</th>\n",
       "      <th>JavaScript</th>\n",
       "      <th>C/C++</th>\n",
       "      <th>Visual Basic</th>\n",
       "      <th>Python</th>\n",
       "      <th>C#</th>\n",
       "    </tr>\n",
       "    <tr>\n",
       "      <th>Date</th>\n",
       "      <th></th>\n",
       "      <th></th>\n",
       "      <th></th>\n",
       "      <th></th>\n",
       "      <th></th>\n",
       "      <th></th>\n",
       "      <th></th>\n",
       "      <th></th>\n",
       "    </tr>\n",
       "  </thead>\n",
       "  <tbody>\n",
       "    <tr>\n",
       "      <th>July 2004</th>\n",
       "      <td>7.38</td>\n",
       "      <td>30.37</td>\n",
       "      <td>18.75</td>\n",
       "      <td>8.65</td>\n",
       "      <td>10.08</td>\n",
       "      <td>8.56</td>\n",
       "      <td>2.53</td>\n",
       "      <td>4.71</td>\n",
       "    </tr>\n",
       "    <tr>\n",
       "      <th>August 2004</th>\n",
       "      <td>7.11</td>\n",
       "      <td>29.99</td>\n",
       "      <td>19.26</td>\n",
       "      <td>8.78</td>\n",
       "      <td>9.81</td>\n",
       "      <td>8.57</td>\n",
       "      <td>2.64</td>\n",
       "      <td>4.99</td>\n",
       "    </tr>\n",
       "    <tr>\n",
       "      <th>September 2004</th>\n",
       "      <td>7.03</td>\n",
       "      <td>29.71</td>\n",
       "      <td>19.49</td>\n",
       "      <td>8.70</td>\n",
       "      <td>9.63</td>\n",
       "      <td>8.41</td>\n",
       "      <td>2.72</td>\n",
       "      <td>5.06</td>\n",
       "    </tr>\n",
       "    <tr>\n",
       "      <th>October 2004</th>\n",
       "      <td>7.17</td>\n",
       "      <td>29.12</td>\n",
       "      <td>19.34</td>\n",
       "      <td>8.47</td>\n",
       "      <td>9.50</td>\n",
       "      <td>8.49</td>\n",
       "      <td>2.92</td>\n",
       "      <td>5.31</td>\n",
       "    </tr>\n",
       "    <tr>\n",
       "      <th>November 2004</th>\n",
       "      <td>7.06</td>\n",
       "      <td>29.59</td>\n",
       "      <td>19.43</td>\n",
       "      <td>8.51</td>\n",
       "      <td>9.52</td>\n",
       "      <td>8.24</td>\n",
       "      <td>2.84</td>\n",
       "      <td>5.24</td>\n",
       "    </tr>\n",
       "  </tbody>\n",
       "</table>\n",
       "</div>"
      ],
      "text/plain": [
       "                Perl   Java    PHP  JavaScript  C/C++  Visual Basic  Python  \\\n",
       "Date                                                                          \n",
       "July 2004       7.38  30.37  18.75        8.65  10.08          8.56    2.53   \n",
       "August 2004     7.11  29.99  19.26        8.78   9.81          8.57    2.64   \n",
       "September 2004  7.03  29.71  19.49        8.70   9.63          8.41    2.72   \n",
       "October 2004    7.17  29.12  19.34        8.47   9.50          8.49    2.92   \n",
       "November 2004   7.06  29.59  19.43        8.51   9.52          8.24    2.84   \n",
       "\n",
       "                  C#  \n",
       "Date                  \n",
       "July 2004       4.71  \n",
       "August 2004     4.99  \n",
       "September 2004  5.06  \n",
       "October 2004    5.31  \n",
       "November 2004   5.24  "
      ]
     },
     "execution_count": 5,
     "metadata": {},
     "output_type": "execute_result"
    }
   ],
   "source": [
    "top_6 = set()\n",
    "\n",
    "new_table = test.astype(float)\n",
    "\n",
    "for index, row in new_table.iterrows():\n",
    "    top_6 |= set(row[row > 0].sort_values(ascending=False).head(6).index)\n",
    "\n",
    "new_table = new_table[top_6]\n",
    "\n",
    "new_table.head()"
   ]
  },
  {
   "cell_type": "code",
   "execution_count": null,
   "id": "9a4befd5",
   "metadata": {
    "execution": {
     "iopub.execute_input": "2022-06-21T03:28:27.960160Z",
     "iopub.status.busy": "2022-06-21T03:28:27.959060Z",
     "iopub.status.idle": "2022-06-21T03:28:42.590846Z",
     "shell.execute_reply": "2022-06-21T03:28:42.589630Z"
    },
    "papermill": {
     "duration": 14.639776,
     "end_time": "2022-06-21T03:28:42.593588",
     "exception": false,
     "start_time": "2022-06-21T03:28:27.953812",
     "status": "completed"
    },
    "tags": [],
    "pycharm": {
     "name": "#%%\n",
     "is_executing": true
    }
   },
   "outputs": [],
   "source": [
    "!pip install bar_chart_race\n",
    "import bar_chart_race as bcr"
   ]
  },
  {
   "cell_type": "code",
   "execution_count": 7,
   "id": "b69b78de",
   "metadata": {
    "execution": {
     "iopub.execute_input": "2022-06-21T03:28:42.607234Z",
     "iopub.status.busy": "2022-06-21T03:28:42.606088Z",
     "iopub.status.idle": "2022-06-21T03:28:42.611269Z",
     "shell.execute_reply": "2022-06-21T03:28:42.610347Z"
    },
    "papermill": {
     "duration": 0.014108,
     "end_time": "2022-06-21T03:28:42.613321",
     "exception": false,
     "start_time": "2022-06-21T03:28:42.599213",
     "status": "completed"
    },
    "tags": [],
    "pycharm": {
     "name": "#%%\n"
    }
   },
   "outputs": [],
   "source": [
    " #def summary(values, ranks):\n",
    "    # total_cases = int(round(values.sum(), 0))\n",
    "     #s = f'Total Number of Cases - {total_cases:,.0f}'\n",
    "     #return {\n",
    "      #   'x': .99, 'y': .05, 's': s, 'ha': 'right', 'size': 8\n",
    "    # }"
   ]
  },
  {
   "cell_type": "code",
   "execution_count": 8,
   "id": "6afb6616",
   "metadata": {
    "execution": {
     "iopub.execute_input": "2022-06-21T03:28:42.626071Z",
     "iopub.status.busy": "2022-06-21T03:28:42.625355Z",
     "iopub.status.idle": "2022-06-21T03:34:17.621067Z",
     "shell.execute_reply": "2022-06-21T03:34:17.619957Z"
    },
    "papermill": {
     "duration": 335.005251,
     "end_time": "2022-06-21T03:34:17.623820",
     "exception": false,
     "start_time": "2022-06-21T03:28:42.618569",
     "status": "completed"
    },
    "tags": [],
    "pycharm": {
     "name": "#%%\n"
    }
   },
   "outputs": [
    {
     "name": "stderr",
     "output_type": "stream",
     "text": [
      "/opt/conda/lib/python3.7/site-packages/bar_chart_race/_make_chart.py:286: UserWarning: FixedFormatter should only be used together with FixedLocator\n",
      "  ax.set_yticklabels(self.df_values.columns)\n",
      "/opt/conda/lib/python3.7/site-packages/bar_chart_race/_make_chart.py:287: UserWarning: FixedFormatter should only be used together with FixedLocator\n",
      "  ax.set_xticklabels([max_val] * len(ax.get_xticks()))\n"
     ]
    }
   ],
   "source": [
    "bcr.bar_chart_race(df = new_table, \n",
    "                   n_bars = 5, \n",
    "                   sort='desc',\n",
    "                   title='Top 5 Programming Languages from 2004 - 2022 (in percent)',\n",
    "                   fixed_max = False,\n",
    "                   steps_per_period = 25, \n",
    "                   dpi = 180,\n",
    "                   period_length = 100,\n",
    "                   filename = 'top_prog_languages.mp4')"
   ]
  }
 ],
 "metadata": {
  "kernelspec": {
   "display_name": "Python 3",
   "language": "python",
   "name": "python3"
  },
  "language_info": {
   "codemirror_mode": {
    "name": "ipython",
    "version": 3
   },
   "file_extension": ".py",
   "mimetype": "text/x-python",
   "name": "python",
   "nbconvert_exporter": "python",
   "pygments_lexer": "ipython3",
   "version": "3.7.12"
  },
  "papermill": {
   "default_parameters": {},
   "duration": 360.608619,
   "end_time": "2022-06-21T03:34:18.352535",
   "environment_variables": {},
   "exception": null,
   "input_path": "__notebook__.ipynb",
   "output_path": "__notebook__.ipynb",
   "parameters": {},
   "start_time": "2022-06-21T03:28:17.743916",
   "version": "2.3.4"
  }
 },
 "nbformat": 4,
 "nbformat_minor": 5
}